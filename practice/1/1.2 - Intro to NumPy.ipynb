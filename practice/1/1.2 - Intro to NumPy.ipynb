{
  "cells": [
    {
      "cell_type": "markdown",
      "metadata": {
        "id": "QNEx_juBO2In"
      },
      "source": [
        "## Intro to NumPy\n",
        "NumPy is a library for the Python programming language, adding support for large, multi-dimensional arrays and matrices, along with a large collection of high-level mathematical functions to operate on these arrays (https://en.wikipedia.org/wiki/NumPy).\n",
        "\n",
        "Numpy is incredibly fast, as it has bindings to C libraries."
      ]
    },
    {
      "cell_type": "code",
      "execution_count": 1,
      "metadata": {
        "id": "WNvkAW0MO2Ip"
      },
      "outputs": [],
      "source": [
        "import numpy as np"
      ]
    },
    {
      "cell_type": "markdown",
      "metadata": {
        "id": "RjNsttyMO2Ip"
      },
      "source": [
        "## Creation of NumPy array\n",
        "### From a list"
      ]
    },
    {
      "cell_type": "code",
      "execution_count": 2,
      "metadata": {
        "id": "PZZ9x23IO2Iq"
      },
      "outputs": [],
      "source": [
        "a_list = [1, 2, 3]\n",
        "a_array = np.array(a_list)"
      ]
    },
    {
      "cell_type": "code",
      "execution_count": 3,
      "metadata": {
        "id": "6FoIJjygO2Iq",
        "outputId": "d5f30526-4698-4ea6-b153-4d4b594f6b91",
        "colab": {
          "base_uri": "https://localhost:8080/"
        }
      },
      "outputs": [
        {
          "output_type": "stream",
          "name": "stdout",
          "text": [
            "<class 'list'>\n",
            "<class 'numpy.ndarray'>\n"
          ]
        }
      ],
      "source": [
        "print(type(a_list))\n",
        "print(type(a_array))"
      ]
    },
    {
      "cell_type": "code",
      "execution_count": 4,
      "metadata": {
        "id": "h6a-4fZ0O2Iq"
      },
      "outputs": [],
      "source": [
        "matrix = [[1,2,3],[4,5,6],[7,8,9]]\n",
        "a_2D = np.array(matrix)"
      ]
    },
    {
      "cell_type": "markdown",
      "metadata": {
        "id": "tvzDe-EBO2Ir"
      },
      "source": [
        "### Using built-in methods"
      ]
    },
    {
      "cell_type": "code",
      "execution_count": 5,
      "metadata": {
        "id": "mRPcFeVwO2Ir",
        "outputId": "0c77ecb8-1c82-4d30-9677-9e450442a539",
        "colab": {
          "base_uri": "https://localhost:8080/"
        }
      },
      "outputs": [
        {
          "output_type": "execute_result",
          "data": {
            "text/plain": [
              "array([0, 1, 2, 3, 4, 5, 6, 7, 8, 9])"
            ]
          },
          "metadata": {},
          "execution_count": 5
        }
      ],
      "source": [
        "np.arange(0, 10)"
      ]
    },
    {
      "cell_type": "code",
      "execution_count": 6,
      "metadata": {
        "id": "pOO3fYTsO2Ir",
        "outputId": "cabf3d24-e7a7-4e34-88b5-947dae76d9ea",
        "colab": {
          "base_uri": "https://localhost:8080/"
        }
      },
      "outputs": [
        {
          "output_type": "execute_result",
          "data": {
            "text/plain": [
              "array([0, 2, 4, 6, 8])"
            ]
          },
          "metadata": {},
          "execution_count": 6
        }
      ],
      "source": [
        "np.arange(0, 10, 2) # np.arange(start, stop, step)"
      ]
    },
    {
      "cell_type": "code",
      "execution_count": 7,
      "metadata": {
        "id": "jwXcVZceO2Is",
        "outputId": "787b1fdd-57cc-4060-d67c-4502c379e237",
        "colab": {
          "base_uri": "https://localhost:8080/"
        }
      },
      "outputs": [
        {
          "output_type": "execute_result",
          "data": {
            "text/plain": [
              "array([0., 0., 0.])"
            ]
          },
          "metadata": {},
          "execution_count": 7
        }
      ],
      "source": [
        "np.zeros(3)"
      ]
    },
    {
      "cell_type": "code",
      "execution_count": 8,
      "metadata": {
        "id": "yqyC77IYO2Is",
        "outputId": "9d40255b-d610-4192-bc1a-5b0058384335",
        "colab": {
          "base_uri": "https://localhost:8080/"
        }
      },
      "outputs": [
        {
          "output_type": "execute_result",
          "data": {
            "text/plain": [
              "array([[0., 0., 0.],\n",
              "       [0., 0., 0.],\n",
              "       [0., 0., 0.]])"
            ]
          },
          "metadata": {},
          "execution_count": 8
        }
      ],
      "source": [
        "np.zeros((3, 3))"
      ]
    },
    {
      "cell_type": "code",
      "execution_count": 9,
      "metadata": {
        "id": "B_0UIfBsO2Is",
        "outputId": "44b3355a-f407-4b99-ccf4-19d7eb1deed2",
        "colab": {
          "base_uri": "https://localhost:8080/"
        }
      },
      "outputs": [
        {
          "output_type": "execute_result",
          "data": {
            "text/plain": [
              "array([ 0.        ,  0.52631579,  1.05263158,  1.57894737,  2.10526316,\n",
              "        2.63157895,  3.15789474,  3.68421053,  4.21052632,  4.73684211,\n",
              "        5.26315789,  5.78947368,  6.31578947,  6.84210526,  7.36842105,\n",
              "        7.89473684,  8.42105263,  8.94736842,  9.47368421, 10.        ])"
            ]
          },
          "metadata": {},
          "execution_count": 9
        }
      ],
      "source": [
        "np.linspace(0, 10, 20) # np.linspace(start, stop, num=50)"
      ]
    },
    {
      "cell_type": "markdown",
      "metadata": {
        "id": "tk-NuDB_O2Is"
      },
      "source": [
        "## Random\n",
        "\n",
        "### uniform\n",
        "Return an array of the given shape with random samples from a uniform distribution"
      ]
    },
    {
      "cell_type": "code",
      "execution_count": 10,
      "metadata": {
        "id": "w7H6FtmmO2It",
        "outputId": "11b39c43-7348-4932-ed8e-609c743dda58",
        "colab": {
          "base_uri": "https://localhost:8080/"
        }
      },
      "outputs": [
        {
          "output_type": "execute_result",
          "data": {
            "text/plain": [
              "array([0.04207257, 0.83122271, 0.39221673, 0.74397345, 0.93801783])"
            ]
          },
          "metadata": {},
          "execution_count": 10
        }
      ],
      "source": [
        "np.random.uniform(0, 1, 5) # (low, high, size)"
      ]
    },
    {
      "cell_type": "markdown",
      "metadata": {
        "id": "_NgL9H4rO2It"
      },
      "source": [
        "### randn\n",
        "Return samples from the “standard normal” distribution."
      ]
    },
    {
      "cell_type": "code",
      "execution_count": 11,
      "metadata": {
        "id": "38LXs3yEO2It",
        "outputId": "392ed63c-073d-41fd-c914-a591b5966d2b",
        "colab": {
          "base_uri": "https://localhost:8080/"
        }
      },
      "outputs": [
        {
          "output_type": "execute_result",
          "data": {
            "text/plain": [
              "array([[ 0.8742866 ,  2.38930658],\n",
              "       [-1.10377893,  0.59820148]])"
            ]
          },
          "metadata": {},
          "execution_count": 11
        }
      ],
      "source": [
        "np.random.randn(2,2) # standard normal (Gaussian) distribution of mean 0 and variance 1"
      ]
    },
    {
      "cell_type": "markdown",
      "metadata": {
        "id": "aK8QiFMgO2It"
      },
      "source": [
        "### normal"
      ]
    },
    {
      "cell_type": "code",
      "execution_count": 12,
      "metadata": {
        "id": "CuDxKnGAO2It",
        "outputId": "32881cc2-d638-4840-d0c3-732374048eaa",
        "colab": {
          "base_uri": "https://localhost:8080/"
        }
      },
      "outputs": [
        {
          "output_type": "execute_result",
          "data": {
            "text/plain": [
              "array([[0.18106369, 1.13447626],\n",
              "       [0.66367668, 1.7301693 ],\n",
              "       [0.59467079, 1.46263351]])"
            ]
          },
          "metadata": {},
          "execution_count": 12
        }
      ],
      "source": [
        "mu, sigma = 1, 0.5 # mean and standard deviation\n",
        "np.random.normal(mu, sigma, size = (3, 2))"
      ]
    },
    {
      "cell_type": "markdown",
      "metadata": {
        "id": "hJqHU1j7O2Iu"
      },
      "source": [
        "### multivariate normal"
      ]
    },
    {
      "cell_type": "code",
      "execution_count": 13,
      "metadata": {
        "id": "zEhFtnq-O2Iu",
        "outputId": "529b1ae5-4636-4a90-a3c6-e7608cc5ba5f",
        "colab": {
          "base_uri": "https://localhost:8080/"
        }
      },
      "outputs": [
        {
          "output_type": "execute_result",
          "data": {
            "text/plain": [
              "array([[[-1.09718484,  2.18736797],\n",
              "        [ 0.46478892,  1.60050889]],\n",
              "\n",
              "       [[ 1.72953783,  2.68610214],\n",
              "        [ 2.01276053,  3.03714459]],\n",
              "\n",
              "       [[ 0.12118728,  0.5889787 ],\n",
              "        [ 0.98277408,  0.44971885]]])"
            ]
          },
          "metadata": {},
          "execution_count": 13
        }
      ],
      "source": [
        "mean = [1, 2]\n",
        "cov = [[1, 0], [0, 1]]\n",
        "np.random.multivariate_normal(mean, cov, size= (3, 2))"
      ]
    },
    {
      "cell_type": "markdown",
      "metadata": {
        "id": "hlK5aFGvO2Iu"
      },
      "source": [
        "### randint\n",
        "Return random integers"
      ]
    },
    {
      "cell_type": "code",
      "execution_count": 14,
      "metadata": {
        "id": "TcJ40UmIO2Iu",
        "outputId": "de8af059-d244-4a9f-c441-f23131b17d3d",
        "colab": {
          "base_uri": "https://localhost:8080/"
        }
      },
      "outputs": [
        {
          "output_type": "execute_result",
          "data": {
            "text/plain": [
              "array([64, 98, 86, 92, 67])"
            ]
          },
          "metadata": {},
          "execution_count": 14
        }
      ],
      "source": [
        "np.random.randint(1, 100, 5) # randint(low, high=None, size=None)"
      ]
    },
    {
      "cell_type": "markdown",
      "metadata": {
        "id": "_pPkJTqeO2Iu"
      },
      "source": [
        "### seed()\n",
        "The seed() method is used to initialize the random number generator."
      ]
    },
    {
      "cell_type": "code",
      "execution_count": 15,
      "metadata": {
        "id": "Femt2xAdO2Iv"
      },
      "outputs": [],
      "source": [
        "np.random.seed(0)"
      ]
    },
    {
      "cell_type": "markdown",
      "metadata": {
        "id": "1_mHce3VO2Iv"
      },
      "source": [
        "### Operations"
      ]
    },
    {
      "cell_type": "code",
      "execution_count": 16,
      "metadata": {
        "id": "9D1D3CSsO2Iv",
        "outputId": "af95eb43-dc24-4a84-b983-8e2e351dfd05",
        "colab": {
          "base_uri": "https://localhost:8080/"
        }
      },
      "outputs": [
        {
          "output_type": "stream",
          "name": "stdout",
          "text": [
            "arr: \n",
            "[0 1 2 3 4 5 6 7 8 9]\n",
            "arr_r: \n",
            "[[0 1 2 3 4]\n",
            " [5 6 7 8 9]]\n"
          ]
        }
      ],
      "source": [
        "arr = np.arange(0, 10)\n",
        "arr_r = arr.reshape(2, 5)\n",
        "print('arr: ')\n",
        "print(arr)\n",
        "print('arr_r: ')\n",
        "print(arr_r)"
      ]
    },
    {
      "cell_type": "code",
      "execution_count": 17,
      "metadata": {
        "id": "mIO_s9qOO2Iv",
        "outputId": "5af0f271-a260-4a83-ccbe-c892d0c72ee5",
        "colab": {
          "base_uri": "https://localhost:8080/"
        }
      },
      "outputs": [
        {
          "output_type": "stream",
          "name": "stdout",
          "text": [
            "[45 48 65 68 68 10 84 22 37 88]\n"
          ]
        }
      ],
      "source": [
        "my_arr = np.random.randint(1, 100, 10)\n",
        "print(my_arr)"
      ]
    },
    {
      "cell_type": "code",
      "execution_count": 18,
      "metadata": {
        "id": "WPcPVO9mO2Iv",
        "outputId": "e7267207-ce09-44b6-9756-548ff8562fa4",
        "colab": {
          "base_uri": "https://localhost:8080/"
        }
      },
      "outputs": [
        {
          "output_type": "execute_result",
          "data": {
            "text/plain": [
              "np.int64(88)"
            ]
          },
          "metadata": {},
          "execution_count": 18
        }
      ],
      "source": [
        "my_arr.max()"
      ]
    },
    {
      "cell_type": "code",
      "execution_count": 19,
      "metadata": {
        "id": "GpxT8uUPO2Iv",
        "outputId": "e7ffcf71-4527-4b0c-fedc-4e71ef89007a",
        "colab": {
          "base_uri": "https://localhost:8080/"
        }
      },
      "outputs": [
        {
          "output_type": "execute_result",
          "data": {
            "text/plain": [
              "np.int64(9)"
            ]
          },
          "metadata": {},
          "execution_count": 19
        }
      ],
      "source": [
        "my_arr.argmax()"
      ]
    },
    {
      "cell_type": "code",
      "execution_count": 20,
      "metadata": {
        "id": "GIQXyLnTO2Iw"
      },
      "outputs": [],
      "source": [
        "arr_1 = np.array([1, 2, 3])\n",
        "arr_2 = np.array([4, 5, 6])"
      ]
    },
    {
      "cell_type": "code",
      "execution_count": 21,
      "metadata": {
        "id": "DVSM1ajMO2Iw",
        "outputId": "b8a55b1c-1a26-40ac-fd21-e49518698d40",
        "colab": {
          "base_uri": "https://localhost:8080/"
        }
      },
      "outputs": [
        {
          "output_type": "execute_result",
          "data": {
            "text/plain": [
              "array([5, 7, 9])"
            ]
          },
          "metadata": {},
          "execution_count": 21
        }
      ],
      "source": [
        "arr_1 + arr_2"
      ]
    },
    {
      "cell_type": "code",
      "execution_count": 22,
      "metadata": {
        "id": "5LtM6AjfO2Iw",
        "outputId": "95175cbc-4b86-447c-ed9f-b8e3de254437",
        "colab": {
          "base_uri": "https://localhost:8080/"
        }
      },
      "outputs": [
        {
          "output_type": "execute_result",
          "data": {
            "text/plain": [
              "array([ 4, 10, 18])"
            ]
          },
          "metadata": {},
          "execution_count": 22
        }
      ],
      "source": [
        "arr_1 * arr_2"
      ]
    },
    {
      "cell_type": "code",
      "execution_count": 23,
      "metadata": {
        "id": "vPRWAUvDO2Iw",
        "outputId": "4c5b3d69-8b50-4bd7-bef6-1e9f141ca8a0",
        "colab": {
          "base_uri": "https://localhost:8080/"
        }
      },
      "outputs": [
        {
          "output_type": "execute_result",
          "data": {
            "text/plain": [
              "array([ 2.71828183,  7.3890561 , 20.08553692])"
            ]
          },
          "metadata": {},
          "execution_count": 23
        }
      ],
      "source": [
        "np.exp(arr_1)"
      ]
    },
    {
      "cell_type": "code",
      "execution_count": 24,
      "metadata": {
        "id": "pdXqJ1O5O2Ix",
        "outputId": "62b9d27d-a2cc-4ecb-911e-ebb858e76d36",
        "colab": {
          "base_uri": "https://localhost:8080/"
        }
      },
      "outputs": [
        {
          "output_type": "execute_result",
          "data": {
            "text/plain": [
              "array([0.        , 0.69314718, 1.09861229])"
            ]
          },
          "metadata": {},
          "execution_count": 24
        }
      ],
      "source": [
        "np.log(arr_1)"
      ]
    },
    {
      "cell_type": "code",
      "execution_count": 24,
      "metadata": {
        "id": "FcNHqYArO2Ix"
      },
      "outputs": [],
      "source": []
    }
  ],
  "metadata": {
    "kernelspec": {
      "display_name": "Python 3 (ipykernel)",
      "language": "python",
      "name": "python3"
    },
    "language_info": {
      "codemirror_mode": {
        "name": "ipython",
        "version": 3
      },
      "file_extension": ".py",
      "mimetype": "text/x-python",
      "name": "python",
      "nbconvert_exporter": "python",
      "pygments_lexer": "ipython3",
      "version": "3.13.7"
    },
    "colab": {
      "provenance": []
    }
  },
  "nbformat": 4,
  "nbformat_minor": 0
}