{
  "cells": [
    {
      "cell_type": "code",
      "source": [
        "import numpy as np\n",
        "import pandas as pd\n",
        "from sklearn.model_selection import train_test_split\n",
        "from sklearn.preprocessing import StandardScaler\n",
        "from sklearn.metrics import accuracy_score, classification_report\n",
        "from sklearn.tree import DecisionTreeClassifier\n",
        "from sklearn.neighbors import KNeighborsClassifier\n",
        "from sklearn.svm import SVC\n",
        "import matplotlib.pyplot as plt\n"
      ],
      "metadata": {
        "id": "E6RZfr6s1d_d"
      },
      "id": "E6RZfr6s1d_d",
      "execution_count": 1,
      "outputs": []
    },
    {
      "cell_type": "code",
      "source": [
        "# Створюємо 2 класи точок з різними центрами\n",
        "np.random.seed(42)\n",
        "X_class1 = np.random.normal([2, 2], 1, (50, 2))\n",
        "X_class2 = np.random.normal([6, 6], 1, (50, 2))\n",
        "\n",
        "# Об'єднуємо\n",
        "X = np.vstack((X_class1, X_class2))\n",
        "y = np.array([0]*50 + [1]*50)\n",
        "\n",
        "# Візуалізація даних\n",
        "plt.scatter(X_class1[:,0], X_class1[:,1], color='blue', label='Клас 0')\n",
        "plt.scatter(X_class2[:,0], X_class2[:,1], color='red', label='Клас 1')\n",
        "plt.legend()\n",
        "plt.title(\"Кастомний набір даних\")\n",
        "plt.show()\n"
      ],
      "metadata": {
        "colab": {
          "base_uri": "https://localhost:8080/",
          "height": 452
        },
        "id": "pjDwvOgX1ez8",
        "outputId": "a09feada-96fa-44c2-8d42-21b5e711eb0b"
      },
      "id": "pjDwvOgX1ez8",
      "execution_count": 2,
      "outputs": [
        {
          "output_type": "display_data",
          "data": {
            "text/plain": [
              "<Figure size 640x480 with 1 Axes>"
            ],
            "image/png": "[encoded data removed]"
          },
          "metadata": {}
        }
      ]
    },
    {
      "cell_type": "code",
      "source": [
        "X_train, X_test, y_train, y_test = train_test_split(X, y, test_size=0.3, random_state=42)\n",
        "scaler = StandardScaler()\n",
        "X_train = scaler.fit_transform(X_train)\n",
        "X_test = scaler.transform(X_test)\n"
      ],
      "metadata": {
        "id": "N1m-lmJY1hMN"
      },
      "id": "N1m-lmJY1hMN",
      "execution_count": 3,
      "outputs": []
    },
    {
      "cell_type": "code",
      "source": [
        "tree = DecisionTreeClassifier(random_state=42)\n",
        "tree.fit(X_train, y_train)\n",
        "y_pred_tree = tree.predict(X_test)\n",
        "print(\"Decision Tree accuracy:\", accuracy_score(y_test, y_pred_tree))\n"
      ],
      "metadata": {
        "colab": {
          "base_uri": "https://localhost:8080/"
        },
        "id": "WaOIkxC91j_8",
        "outputId": "1dd7c7bd-3d2a-4141-c49e-4046da7f55a9"
      },
      "id": "WaOIkxC91j_8",
      "execution_count": 4,
      "outputs": [
        {
          "output_type": "stream",
          "name": "stdout",
          "text": [
            "Decision Tree accuracy: 1.0\n"
          ]
        }
      ]
    },
    {
      "cell_type": "code",
      "source": [
        "knn = KNeighborsClassifier(n_neighbors=5)\n",
        "knn.fit(X_train, y_train)\n",
        "y_pred_knn = knn.predict(X_test)\n",
        "print(\"KNN accuracy:\", accuracy_score(y_test, y_pred_knn))\n"
      ],
      "metadata": {
        "colab": {
          "base_uri": "https://localhost:8080/"
        },
        "id": "8OaotgCP1kp9",
        "outputId": "93d7d8af-46b8-44d7-8b8c-ce492e14cd9b"
      },
      "id": "8OaotgCP1kp9",
      "execution_count": 5,
      "outputs": [
        {
          "output_type": "stream",
          "name": "stdout",
          "text": [
            "KNN accuracy: 1.0\n"
          ]
        }
      ]
    },
    {
      "cell_type": "code",
      "source": [
        "svm_linear = SVC(kernel='linear', random_state=42)\n",
        "svm_linear.fit(X_train, y_train)\n",
        "y_pred_linear = svm_linear.predict(X_test)\n",
        "print(\"SVM (linear) accuracy:\", accuracy_score(y_test, y_pred_linear))\n"
      ],
      "metadata": {
        "colab": {
          "base_uri": "https://localhost:8080/"
        },
        "id": "nAjT8XS81oqE",
        "outputId": "ad0cf09f-4ba1-4ed7-cc50-0531d581a6c4"
      },
      "id": "nAjT8XS81oqE",
      "execution_count": 6,
      "outputs": [
        {
          "output_type": "stream",
          "name": "stdout",
          "text": [
            "SVM (linear) accuracy: 1.0\n"
          ]
        }
      ]
    },
    {
      "cell_type": "code",
      "source": [
        "svm_rbf = SVC(kernel='rbf', random_state=42)\n",
        "svm_rbf.fit(X_train, y_train)\n",
        "y_pred_rbf = svm_rbf.predict(X_test)\n",
        "print(\"SVM (RBF) accuracy:\", accuracy_score(y_test, y_pred_rbf))\n"
      ],
      "metadata": {
        "colab": {
          "base_uri": "https://localhost:8080/"
        },
        "id": "HCMIte6Y1tiV",
        "outputId": "bb81ac02-e684-49c6-b295-b8fb261a4db5"
      },
      "id": "HCMIte6Y1tiV",
      "execution_count": 7,
      "outputs": [
        {
          "output_type": "stream",
          "name": "stdout",
          "text": [
            "SVM (RBF) accuracy: 1.0\n"
          ]
        }
      ]
    },
    {
      "cell_type": "code",
      "source": [
        "results = pd.DataFrame({\n",
        "    'Модель': ['Decision Tree', 'KNN', 'SVM Linear', 'SVM RBF'],\n",
        "    'Accuracy': [\n",
        "        accuracy_score(y_test, y_pred_tree),\n",
        "        accuracy_score(y_test, y_pred_knn),\n",
        "        accuracy_score(y_test, y_pred_linear),\n",
        "        accuracy_score(y_test, y_pred_rbf)\n",
        "    ]\n",
        "})\n",
        "print(results)\n"
      ],
      "metadata": {
        "colab": {
          "base_uri": "https://localhost:8080/"
        },
        "id": "NAicr6wS1uD9",
        "outputId": "2057b857-180b-4127-ec7c-3f030d22a5ad"
      },
      "id": "NAicr6wS1uD9",
      "execution_count": 8,
      "outputs": [
        {
          "output_type": "stream",
          "name": "stdout",
          "text": [
            "          Модель  Accuracy\n",
            "0  Decision Tree       1.0\n",
            "1            KNN       1.0\n",
            "2     SVM Linear       1.0\n",
            "3        SVM RBF       1.0\n"
          ]
        }
      ]
    },
    {
      "cell_type": "code",
      "source": [
        "print(\"Classification report (SVM RBF):\")\n",
        "print(classification_report(y_test, y_pred_rbf))\n"
      ],
      "metadata": {
        "colab": {
          "base_uri": "https://localhost:8080/"
        },
        "id": "vdYQqLJk1yYN",
        "outputId": "95397735-2a3a-4850-b1f5-f83e5dbbd0e6"
      },
      "id": "vdYQqLJk1yYN",
      "execution_count": 9,
      "outputs": [
        {
          "output_type": "stream",
          "name": "stdout",
          "text": [
            "Classification report (SVM RBF):\n",
            "              precision    recall  f1-score   support\n",
            "\n",
            "           0       1.00      1.00      1.00        17\n",
            "           1       1.00      1.00      1.00        13\n",
            "\n",
            "    accuracy                           1.00        30\n",
            "   macro avg       1.00      1.00      1.00        30\n",
            "weighted avg       1.00      1.00      1.00        30\n",
            "\n"
          ]
        }
      ]
    }
  ],
  "metadata": {
    "kernelspec": {
      "display_name": "Python 3 (ipykernel)",
      "language": "python",
      "name": "python3"
    },
    "language_info": {
      "codemirror_mode": {
        "name": "ipython",
        "version": 3
      },
      "file_extension": ".py",
      "mimetype": "text/x-python",
      "name": "python",
      "nbconvert_exporter": "python",
      "pygments_lexer": "ipython3",
      "version": "3.13.7"
    },
    "colab": {
      "provenance": []
    }
  },
  "nbformat": 4,
  "nbformat_minor": 5
}